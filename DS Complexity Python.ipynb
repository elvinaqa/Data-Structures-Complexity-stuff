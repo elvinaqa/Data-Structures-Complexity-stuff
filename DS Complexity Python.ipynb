{
 "cells": [
  {
   "cell_type": "code",
   "execution_count": 7,
   "metadata": {},
   "outputs": [],
   "source": [
    "# Adding numbers up to N"
   ]
  },
  {
   "cell_type": "code",
   "execution_count": 42,
   "metadata": {},
   "outputs": [
    {
     "data": {
      "text/plain": [
       "6"
      ]
     },
     "execution_count": 42,
     "metadata": {},
     "output_type": "execute_result"
    }
   ],
   "source": [
    "def sum1(n):\n",
    "    final_sum = 0\n",
    "    for x in range(n+1):\n",
    "        final_sum += x\n",
    "    return final_sum\n",
    "sum1(3)"
   ]
  },
  {
   "cell_type": "code",
   "execution_count": 43,
   "metadata": {},
   "outputs": [
    {
     "data": {
      "text/plain": [
       "6.0"
      ]
     },
     "execution_count": 43,
     "metadata": {},
     "output_type": "execute_result"
    }
   ],
   "source": [
    "def sum2(n):\n",
    "    return (n*(n+1))/2\n",
    "sum2(3)"
   ]
  },
  {
   "cell_type": "code",
   "execution_count": 44,
   "metadata": {},
   "outputs": [
    {
     "name": "stdout",
     "output_type": "stream",
     "text": [
      "198 ns ± 48.9 ns per loop (mean ± std. dev. of 7 runs, 1000000 loops each)\n",
      "3.69 µs ± 71.7 ns per loop (mean ± std. dev. of 7 runs, 100000 loops each)\n"
     ]
    }
   ],
   "source": [
    "%timeit sum2(100)\n",
    "%timeit sum1(100)"
   ]
  },
  {
   "cell_type": "code",
   "execution_count": 45,
   "metadata": {},
   "outputs": [
    {
     "name": "stdout",
     "output_type": "stream",
     "text": [
      "1\n",
      "1\n",
      "2\n",
      "3\n",
      "4\n",
      "5\n",
      "hey\n",
      "hey\n",
      "hey\n",
      "hey\n",
      "hey\n",
      "hey\n",
      "hey\n",
      "hey\n",
      "hey\n",
      "hey\n"
     ]
    }
   ],
   "source": [
    "def comp(lst):\n",
    "#     o(1)\n",
    "    print(lst[0])\n",
    "    mid = len(lst)//2\n",
    "#     O(n/2)\n",
    "    for val in lst[:mid]:\n",
    "        print (val)\n",
    "#     O(n)\n",
    "    for x in range(10):\n",
    "        print(\"hey\")\n",
    "\n",
    "lst = [1,2,3,4,5, 6, 7, 8, 9 ,10]\n",
    "comp(lst)"
   ]
  },
  {
   "cell_type": "code",
   "execution_count": 46,
   "metadata": {},
   "outputs": [
    {
     "data": {
      "text/plain": [
       "False"
      ]
     },
     "execution_count": 46,
     "metadata": {},
     "output_type": "execute_result"
    }
   ],
   "source": [
    "def matcher(lst, match):\n",
    "    for item in lst:\n",
    "        if item == match:\n",
    "            return True\n",
    "    return False\n",
    "matcher(lst, 1) # O(1)\n",
    "matcher(lst, 11) # O(n)"
   ]
  },
  {
   "cell_type": "code",
   "execution_count": 47,
   "metadata": {},
   "outputs": [
    {
     "data": {
      "text/plain": [
       "['new', 'new', 'new', 'new', 'new']"
      ]
     },
     "execution_count": 47,
     "metadata": {},
     "output_type": "execute_result"
    }
   ],
   "source": [
    "def create_list(n):\n",
    "    new_list = []\n",
    "    for num in range(n):\n",
    "        new_list.append(\"new\")\n",
    "    return new_list\n",
    "create_list(5)"
   ]
  },
  {
   "cell_type": "code",
   "execution_count": 58,
   "metadata": {},
   "outputs": [],
   "source": [
    "# Space complexity and Big O difference\n",
    "# in this case, space compx is 1 O(1),while big o - Time compx is O(n)\n",
    "def printer():\n",
    "    for x in range(10):\n",
    "        print(\"Hello\")"
   ]
  },
  {
   "cell_type": "code",
   "execution_count": null,
   "metadata": {},
   "outputs": [],
   "source": []
  },
  {
   "cell_type": "markdown",
   "metadata": {},
   "source": [
    "# LIST - Dynamic Arrays"
   ]
  },
  {
   "cell_type": "code",
   "execution_count": 62,
   "metadata": {},
   "outputs": [],
   "source": [
    "# Make list in different ways\n",
    "def l1():\n",
    "    lst = []\n",
    "    for val in range(10000):\n",
    "        lst.append(val)\n",
    "def l2():\n",
    "    lst = range(10000)\n",
    "\n",
    "def l3():\n",
    "    lst = [val for val in range(10000)]\n",
    "\n",
    "def l4():\n",
    "    lst = []\n",
    "    for val in range(10000):\n",
    "        lst = lst + [val]"
   ]
  },
  {
   "cell_type": "code",
   "execution_count": 66,
   "metadata": {},
   "outputs": [
    {
     "name": "stdout",
     "output_type": "stream",
     "text": [
      "20.2 ns ± 0.814 ns per loop (mean ± std. dev. of 7 runs, 10000000 loops each)\n",
      "18.4 ns ± 1.22 ns per loop (mean ± std. dev. of 7 runs, 100000000 loops each)\n",
      "19 ns ± 1.48 ns per loop (mean ± std. dev. of 7 runs, 100000000 loops each)\n",
      "20.2 ns ± 1.15 ns per loop (mean ± std. dev. of 7 runs, 100000000 loops each)\n"
     ]
    }
   ],
   "source": [
    "%timeit l1\n",
    "%timeit l2\n",
    "%timeit l3\n",
    "%timeit l4\n",
    "# Built-in functions are the fastest"
   ]
  },
  {
   "cell_type": "markdown",
   "metadata": {},
   "source": [
    "# Array Sequences - List[], Tuple(), String\"\""
   ]
  },
  {
   "cell_type": "code",
   "execution_count": null,
   "metadata": {},
   "outputs": [],
   "source": [
    "# Lists can include multiple references to the same object\n",
    "# Ex: temp[2] means changing the reference to the object, not actually the prior value of temp[2] in the original list\n",
    "Shallow and deep copies for Lists to copy temp = list(primes); temp2 = deepcopy(primes) "
   ]
  },
  {
   "cell_type": "markdown",
   "metadata": {},
   "source": [
    "# Dynamic Array - No need to previously specify the size"
   ]
  },
  {
   "cell_type": "code",
   "execution_count": 74,
   "metadata": {},
   "outputs": [
    {
     "name": "stdout",
     "output_type": "stream",
     "text": [
      "length: 0 size: 56\n",
      "length: 1 size: 88\n",
      "length: 2 size: 88\n",
      "length: 3 size: 88\n",
      "length: 4 size: 88\n",
      "length: 5 size: 120\n",
      "length: 6 size: 120\n",
      "length: 7 size: 120\n",
      "length: 8 size: 120\n",
      "length: 9 size: 184\n"
     ]
    }
   ],
   "source": [
    "import sys\n",
    "n = 10\n",
    "data = []\n",
    "for i in range(n):\n",
    "    a = len(data)\n",
    "    b = sys.getsizeof(data)\n",
    "    print(f\"length: {a} size: {b}\")\n",
    "    data.append(n)"
   ]
  },
  {
   "cell_type": "code",
   "execution_count": 76,
   "metadata": {},
   "outputs": [],
   "source": []
  },
  {
   "cell_type": "code",
   "execution_count": null,
   "metadata": {},
   "outputs": [],
   "source": [
    "\n",
    ":"
   ]
  },
  {
   "cell_type": "markdown",
   "metadata": {},
   "source": [
    "# Dictionaries - Hash Tables with Key and Vals"
   ]
  },
  {
   "cell_type": "code",
   "execution_count": 68,
   "metadata": {},
   "outputs": [
    {
     "data": {
      "text/plain": [
       "1"
      ]
     },
     "execution_count": 68,
     "metadata": {},
     "output_type": "execute_result"
    }
   ],
   "source": [
    "d = {\"k1\":1, \"k2\":2}\n",
    "d[\"k1\"]"
   ]
  },
  {
   "cell_type": "code",
   "execution_count": null,
   "metadata": {},
   "outputs": [],
   "source": []
  },
  {
   "cell_type": "code",
   "execution_count": null,
   "metadata": {},
   "outputs": [],
   "source": []
  }
 ],
 "metadata": {
  "kernelspec": {
   "display_name": "Python 3",
   "language": "python",
   "name": "python3"
  },
  "language_info": {
   "codemirror_mode": {
    "name": "ipython",
    "version": 3
   },
   "file_extension": ".py",
   "mimetype": "text/x-python",
   "name": "python",
   "nbconvert_exporter": "python",
   "pygments_lexer": "ipython3",
   "version": "3.8.3"
  }
 },
 "nbformat": 4,
 "nbformat_minor": 4
}
