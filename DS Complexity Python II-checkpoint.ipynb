{
 "cells": [
  {
   "cell_type": "code",
   "execution_count": 7,
   "metadata": {},
   "outputs": [],
   "source": [
    "# Adding numbers up to N"
   ]
  },
  {
   "cell_type": "code",
   "execution_count": 42,
   "metadata": {},
   "outputs": [
    {
     "data": {
      "text/plain": [
       "6"
      ]
     },
     "execution_count": 42,
     "metadata": {},
     "output_type": "execute_result"
    }
   ],
   "source": [
    "def sum1(n):\n",
    "    final_sum = 0\n",
    "    for x in range(n+1):\n",
    "        final_sum += x\n",
    "    return final_sum\n",
    "sum1(3)"
   ]
  },
  {
   "cell_type": "code",
   "execution_count": 43,
   "metadata": {},
   "outputs": [
    {
     "data": {
      "text/plain": [
       "6.0"
      ]
     },
     "execution_count": 43,
     "metadata": {},
     "output_type": "execute_result"
    }
   ],
   "source": [
    "def sum2(n):\n",
    "    return (n*(n+1))/2\n",
    "sum2(3)"
   ]
  },
  {
   "cell_type": "code",
   "execution_count": 44,
   "metadata": {},
   "outputs": [
    {
     "name": "stdout",
     "output_type": "stream",
     "text": [
      "198 ns ± 48.9 ns per loop (mean ± std. dev. of 7 runs, 1000000 loops each)\n",
      "3.69 µs ± 71.7 ns per loop (mean ± std. dev. of 7 runs, 100000 loops each)\n"
     ]
    }
   ],
   "source": [
    "%timeit sum2(100)\n",
    "%timeit sum1(100)"
   ]
  },
  {
   "cell_type": "code",
   "execution_count": 45,
   "metadata": {},
   "outputs": [
    {
     "name": "stdout",
     "output_type": "stream",
     "text": [
      "1\n",
      "1\n",
      "2\n",
      "3\n",
      "4\n",
      "5\n",
      "hey\n",
      "hey\n",
      "hey\n",
      "hey\n",
      "hey\n",
      "hey\n",
      "hey\n",
      "hey\n",
      "hey\n",
      "hey\n"
     ]
    }
   ],
   "source": [
    "def comp(lst):\n",
    "#     o(1)\n",
    "    print(lst[0])\n",
    "    mid = len(lst)//2\n",
    "#     O(n/2)\n",
    "    for val in lst[:mid]:\n",
    "        print (val)\n",
    "#     O(n)\n",
    "    for x in range(10):\n",
    "        print(\"hey\")\n",
    "\n",
    "lst = [1,2,3,4,5, 6, 7, 8, 9 ,10]\n",
    "comp(lst)"
   ]
  },
  {
   "cell_type": "code",
   "execution_count": 46,
   "metadata": {},
   "outputs": [
    {
     "data": {
      "text/plain": [
       "False"
      ]
     },
     "execution_count": 46,
     "metadata": {},
     "output_type": "execute_result"
    }
   ],
   "source": [
    "def matcher(lst, match):\n",
    "    for item in lst:\n",
    "        if item == match:\n",
    "            return True\n",
    "    return False\n",
    "matcher(lst, 1) # O(1)\n",
    "matcher(lst, 11) # O(n)"
   ]
  },
  {
   "cell_type": "code",
   "execution_count": 47,
   "metadata": {},
   "outputs": [
    {
     "data": {
      "text/plain": [
       "['new', 'new', 'new', 'new', 'new']"
      ]
     },
     "execution_count": 47,
     "metadata": {},
     "output_type": "execute_result"
    }
   ],
   "source": [
    "def create_list(n):\n",
    "    new_list = []\n",
    "    for num in range(n):\n",
    "        new_list.append(\"new\")\n",
    "    return new_list\n",
    "create_list(5)"
   ]
  },
  {
   "cell_type": "code",
   "execution_count": 58,
   "metadata": {},
   "outputs": [],
   "source": [
    "# Space complexity and Big O difference\n",
    "# in this case, space compx is 1 O(1),while big o - Time compx is O(n)\n",
    "def printer():\n",
    "    for x in range(10):\n",
    "        print(\"Hello\")"
   ]
  },
  {
   "cell_type": "code",
   "execution_count": null,
   "metadata": {},
   "outputs": [],
   "source": []
  },
  {
   "cell_type": "markdown",
   "metadata": {},
   "source": [
    "# LIST - Dynamic Arrays"
   ]
  },
  {
   "cell_type": "code",
   "execution_count": 62,
   "metadata": {},
   "outputs": [],
   "source": [
    "# Make list in different ways\n",
    "def l1():\n",
    "    lst = []\n",
    "    for val in range(10000):\n",
    "        lst.append(val)\n",
    "def l2():\n",
    "    lst = range(10000)\n",
    "\n",
    "def l3():\n",
    "    lst = [val for val in range(10000)]\n",
    "\n",
    "def l4():\n",
    "    lst = []\n",
    "    for val in range(10000):\n",
    "        lst = lst + [val]"
   ]
  },
  {
   "cell_type": "code",
   "execution_count": 66,
   "metadata": {},
   "outputs": [
    {
     "name": "stdout",
     "output_type": "stream",
     "text": [
      "20.2 ns ± 0.814 ns per loop (mean ± std. dev. of 7 runs, 10000000 loops each)\n",
      "18.4 ns ± 1.22 ns per loop (mean ± std. dev. of 7 runs, 100000000 loops each)\n",
      "19 ns ± 1.48 ns per loop (mean ± std. dev. of 7 runs, 100000000 loops each)\n",
      "20.2 ns ± 1.15 ns per loop (mean ± std. dev. of 7 runs, 100000000 loops each)\n"
     ]
    }
   ],
   "source": [
    "%timeit l1\n",
    "%timeit l2\n",
    "%timeit l3\n",
    "%timeit l4\n",
    "# Built-in functions are the fastest"
   ]
  },
  {
   "cell_type": "markdown",
   "metadata": {},
   "source": [
    "# Array Sequences - List[], Tuple(), String\"\""
   ]
  },
  {
   "cell_type": "code",
   "execution_count": null,
   "metadata": {},
   "outputs": [],
   "source": [
    "# Lists can include multiple references to the same object\n",
    "# Ex: temp[2] means changing the reference to the object, not actually the prior value of temp[2] in the original list\n",
    "Shallow and deep copies for Lists to copy temp = list(primes); temp2 = deepcopy(primes) "
   ]
  },
  {
   "cell_type": "markdown",
   "metadata": {},
   "source": [
    "# Dynamic Array - No need to previously specify the size"
   ]
  },
  {
   "cell_type": "code",
   "execution_count": 74,
   "metadata": {},
   "outputs": [
    {
     "name": "stdout",
     "output_type": "stream",
     "text": [
      "length: 0 size: 56\n",
      "length: 1 size: 88\n",
      "length: 2 size: 88\n",
      "length: 3 size: 88\n",
      "length: 4 size: 88\n",
      "length: 5 size: 120\n",
      "length: 6 size: 120\n",
      "length: 7 size: 120\n",
      "length: 8 size: 120\n",
      "length: 9 size: 184\n"
     ]
    }
   ],
   "source": [
    "import sys\n",
    "n = 10\n",
    "data = []\n",
    "for i in range(n):\n",
    "    a = len(data)\n",
    "    b = sys.getsizeof(data)\n",
    "    print(f\"length: {a} size: {b}\")\n",
    "    data.append(n)"
   ]
  },
  {
   "cell_type": "code",
   "execution_count": 76,
   "metadata": {},
   "outputs": [],
   "source": []
  },
  {
   "cell_type": "code",
   "execution_count": null,
   "metadata": {},
   "outputs": [],
   "source": [
    "\n",
    ":"
   ]
  },
  {
   "cell_type": "markdown",
   "metadata": {},
   "source": [
    "# Dictionaries - Hash Tables with Key and Vals"
   ]
  },
  {
   "cell_type": "code",
   "execution_count": 68,
   "metadata": {},
   "outputs": [
    {
     "data": {
      "text/plain": [
       "1"
      ]
     },
     "execution_count": 68,
     "metadata": {},
     "output_type": "execute_result"
    }
   ],
   "source": [
    "d = {\"k1\":1, \"k2\":2}\n",
    "d[\"k1\"]"
   ]
  },
  {
   "cell_type": "markdown",
   "metadata": {},
   "source": [
    "# Anagram"
   ]
  },
  {
   "cell_type": "code",
   "execution_count": 83,
   "metadata": {},
   "outputs": [
    {
     "data": {
      "text/plain": [
       "True"
      ]
     },
     "execution_count": 83,
     "metadata": {},
     "output_type": "execute_result"
    }
   ],
   "source": [
    "def anagram(s1, s2):\n",
    "    s1 = s1.replace(' ', '').lower()\n",
    "    s2 = s2.replace(' ', '').lower()\n",
    "    \n",
    "    return sorted(s1) == sorted(s2)\n",
    "anagram(\"clint eastwood\", \"old west action\")"
   ]
  },
  {
   "cell_type": "code",
   "execution_count": 88,
   "metadata": {},
   "outputs": [
    {
     "data": {
      "text/plain": [
       "True"
      ]
     },
     "execution_count": 88,
     "metadata": {},
     "output_type": "execute_result"
    }
   ],
   "source": [
    "def anagram2(s1, s2):\n",
    "    s1 = s1.replace(' ', '').lower()\n",
    "    s2 = s2.replace(' ', '').lower()\n",
    "    \n",
    "    # check same number of letters\n",
    "    if len(s1) != len(s2):\n",
    "        return False\n",
    "    # check freq of each letter\n",
    "    count = {}\n",
    "    \n",
    "    for letter in s1:\n",
    "        if letter in count:\n",
    "            count[letter] += 1\n",
    "        else:\n",
    "            count[letter] = 1\n",
    "    for letter in s2:\n",
    "        if letter in count:\n",
    "            count[letter] -=1\n",
    "        else:\n",
    "            count[letter] = 0\n",
    "    \n",
    "    for k in count:\n",
    "        if count[k] != 0:\n",
    "            return False\n",
    "    return True\n",
    "anagram2(\"clint eastwood\", \"old west action\")"
   ]
  },
  {
   "cell_type": "markdown",
   "metadata": {},
   "source": [
    "# Array Pair Sum "
   ]
  },
  {
   "cell_type": "code",
   "execution_count": 101,
   "metadata": {},
   "outputs": [
    {
     "data": {
      "text/plain": [
       "'(1, 3)(2, 2)'"
      ]
     },
     "execution_count": 101,
     "metadata": {},
     "output_type": "execute_result"
    }
   ],
   "source": [
    "def pair_sum(arr, k):\n",
    "    if len(arr) < 2:\n",
    "        return \n",
    "    seen = set()\n",
    "    output = set()\n",
    "    \n",
    "    for num in arr:\n",
    "        target = k - num\n",
    "        \n",
    "        if target not in seen:\n",
    "            seen.add(num)\n",
    "        else:\n",
    "            output.add((min(num, target),max(num, target)))\n",
    "#     return len(output)\n",
    "    return ''.join(map(str, list(output)))\n",
    "pair_sum([1, 3, 2, 2], 4)"
   ]
  },
  {
   "cell_type": "markdown",
   "metadata": {},
   "source": [
    "# Find the missing Element"
   ]
  },
  {
   "cell_type": "code",
   "execution_count": 105,
   "metadata": {},
   "outputs": [
    {
     "data": {
      "text/plain": [
       "2"
      ]
     },
     "execution_count": 105,
     "metadata": {},
     "output_type": "execute_result"
    }
   ],
   "source": [
    "def finder(arr1, arr2):\n",
    "    arr1.sort()\n",
    "    arr2.sort()\n",
    "    \n",
    "    for num1, num2 in zip(arr1, arr2):\n",
    "        if num1 != num2:\n",
    "            return num1\n",
    "    return arr1[-1]\n",
    "finder([1,2,3,4], [1,3,4,5])"
   ]
  },
  {
   "cell_type": "markdown",
   "metadata": {},
   "source": [
    "# Sentence Reversal"
   ]
  },
  {
   "cell_type": "code",
   "execution_count": 115,
   "metadata": {},
   "outputs": [],
   "source": [
    "def rev_word1(s):\n",
    "    return \" \".join(reversed(s.split()))\n",
    "def rev_word2(s):\n",
    "    return \" \".join(s.split()[::-1])"
   ]
  },
  {
   "cell_type": "code",
   "execution_count": 116,
   "metadata": {},
   "outputs": [
    {
     "data": {
      "text/plain": [
       "'happened? ever Something'"
      ]
     },
     "execution_count": 116,
     "metadata": {},
     "output_type": "execute_result"
    }
   ],
   "source": [
    "rev_word2(\"Something ever happened?\")"
   ]
  },
  {
   "cell_type": "markdown",
   "metadata": {},
   "source": [
    "# String Compression"
   ]
  },
  {
   "cell_type": "code",
   "execution_count": 135,
   "metadata": {},
   "outputs": [
    {
     "data": {
      "text/plain": [
       "'A3B3'"
      ]
     },
     "execution_count": 135,
     "metadata": {},
     "output_type": "execute_result"
    }
   ],
   "source": [
    "def compress(s):\n",
    "    \n",
    "    r = \"\"\n",
    "    l = len(s)\n",
    "    \n",
    "    if l == 0:\n",
    "        return \"\"\n",
    "    if l == 1:\n",
    "        return s + \"1\"\n",
    "\n",
    "    count = 1\n",
    "    i = 1\n",
    "    \n",
    "    while i < l:\n",
    "        if s[i] == s[i-1]:\n",
    "            count += 1\n",
    "        else:\n",
    "            r = r + s[i-1] + str(count)\n",
    "            count = 1\n",
    "        i += 1 \n",
    "    r = r + s[i-1] + str(count)\n",
    "    return r\n",
    "compress(\"AAABBB\")"
   ]
  },
  {
   "cell_type": "code",
   "execution_count": null,
   "metadata": {},
   "outputs": [],
   "source": []
  },
  {
   "cell_type": "markdown",
   "metadata": {},
   "source": [
    "# Unique charactered-string"
   ]
  },
  {
   "cell_type": "code",
   "execution_count": 136,
   "metadata": {},
   "outputs": [
    {
     "data": {
      "text/plain": [
       "True"
      ]
     },
     "execution_count": 136,
     "metadata": {},
     "output_type": "execute_result"
    }
   ],
   "source": [
    "def uni_char(s):\n",
    "    return len(set(s)) == len(s)\n",
    "uni_char(\"abs\")"
   ]
  },
  {
   "cell_type": "code",
   "execution_count": 134,
   "metadata": {},
   "outputs": [
    {
     "data": {
      "text/plain": [
       "True"
      ]
     },
     "execution_count": 134,
     "metadata": {},
     "output_type": "execute_result"
    }
   ],
   "source": []
  },
  {
   "cell_type": "markdown",
   "metadata": {},
   "source": [
    "# Stack Queue Deque"
   ]
  },
  {
   "cell_type": "code",
   "execution_count": 138,
   "metadata": {},
   "outputs": [],
   "source": [
    "# Stack - Last In, First out"
   ]
  },
  {
   "cell_type": "code",
   "execution_count": 144,
   "metadata": {},
   "outputs": [],
   "source": [
    "class Stack(object):\n",
    "    \n",
    "    def __init__(self):\n",
    "        self.items = []\n",
    "    \n",
    "    def isEmpty(self):\n",
    "        return self.items == []\n",
    "    \n",
    "    def push(self, item):\n",
    "        self.items.append(item)\n",
    "        \n",
    "    def pop(self):\n",
    "        return self.items.pop()\n",
    "    \n",
    "    def peek(self):\n",
    "        return self.items[len(self.items)-1]\n",
    "    \n",
    "    def size(self):\n",
    "        return len(self.items)"
   ]
  },
  {
   "cell_type": "code",
   "execution_count": 148,
   "metadata": {},
   "outputs": [
    {
     "name": "stdout",
     "output_type": "stream",
     "text": [
      "True\n"
     ]
    },
    {
     "data": {
      "text/plain": [
       "1"
      ]
     },
     "execution_count": 148,
     "metadata": {},
     "output_type": "execute_result"
    }
   ],
   "source": [
    "s = Stack()\n",
    "print(s.isEmpty())\n",
    "s.push(1)\n",
    "s.peek()"
   ]
  },
  {
   "cell_type": "markdown",
   "metadata": {},
   "source": [
    "# Queue - First in First out"
   ]
  },
  {
   "cell_type": "code",
   "execution_count": 149,
   "metadata": {},
   "outputs": [],
   "source": [
    "class Queue(object):\n",
    "    \n",
    "    def __init__(self):\n",
    "        self.items = []\n",
    "        \n",
    "    def isEmpty(self):\n",
    "        return self.items == []\n",
    "    \n",
    "    def enqueue(self, item):\n",
    "        self.items.insert(0, item)\n",
    "    \n",
    "    def dequeue(self):\n",
    "        return self.items.pop()\n",
    "    \n",
    "    def size(self): \n",
    "        return len(self.items)"
   ]
  },
  {
   "cell_type": "code",
   "execution_count": 154,
   "metadata": {},
   "outputs": [
    {
     "data": {
      "text/plain": [
       "2"
      ]
     },
     "execution_count": 154,
     "metadata": {},
     "output_type": "execute_result"
    }
   ],
   "source": [
    "q = Queue()\n",
    "q.size()\n",
    "q.enqueue(2)\n",
    "q.dequeue()"
   ]
  },
  {
   "cell_type": "markdown",
   "metadata": {},
   "source": [
    "# Deque - 2 ends - add from end or rear - no LIFO FIFO"
   ]
  },
  {
   "cell_type": "code",
   "execution_count": 159,
   "metadata": {},
   "outputs": [
    {
     "data": {
      "text/plain": [
       "2"
      ]
     },
     "execution_count": 159,
     "metadata": {},
     "output_type": "execute_result"
    }
   ],
   "source": [
    "class Deque(object):\n",
    "    \n",
    "    def __init__(self):\n",
    "        self.items = []\n",
    "    \n",
    "    def isEmpty(self):\n",
    "        return self.items == []\n",
    "    \n",
    "    def addFront(self, item):\n",
    "        self.items.append(item)\n",
    "    \n",
    "    def addRear(self, item):\n",
    "        self.items.insert(0, item)\n",
    "        \n",
    "    def removeFront(self):\n",
    "        return self.items.pop()\n",
    "    \n",
    "    def removeRear(self):\n",
    "        return self.items.pop(0)\n",
    "    \n",
    "    def size(self):\n",
    "        return len(self.items)\n",
    "d = Deque()\n",
    "d.addFront(\"You\")\n",
    "d.addRear(\"Me\")\n",
    "d.size()"
   ]
  },
  {
   "cell_type": "markdown",
   "metadata": {},
   "source": [
    "# Balanced Paranthesis"
   ]
  },
  {
   "cell_type": "code",
   "execution_count": 162,
   "metadata": {},
   "outputs": [
    {
     "data": {
      "text/plain": [
       "False"
      ]
     },
     "execution_count": 162,
     "metadata": {},
     "output_type": "execute_result"
    }
   ],
   "source": [
    "def balance_check(s):\n",
    "    \n",
    "    if len(s)%2 == 0:\n",
    "        return False\n",
    "    \n",
    "    opening = set('([{')\n",
    "    matches = set([('(', ')' ), ('[', ']'), ('{', '}')])\n",
    "    \n",
    "    stack = []\n",
    "    \n",
    "    for paren in s:\n",
    "        if paren in opening:\n",
    "            stack.append(paren)\n",
    "        else:\n",
    "            if len(stack) == 0:\n",
    "                return False\n",
    "            last_open = stack.pop()\n",
    "            \n",
    "            if (last_open, paren) not in matches:\n",
    "                return False\n",
    "    return len(stack) == 0\n",
    "balance_check(\"{{))}}\")"
   ]
  },
  {
   "cell_type": "code",
   "execution_count": null,
   "metadata": {},
   "outputs": [],
   "source": []
  },
  {
   "cell_type": "markdown",
   "metadata": {},
   "source": [
    "# Linked List - collectio of nodes with references of previous and next el."
   ]
  },
  {
   "cell_type": "code",
   "execution_count": 163,
   "metadata": {},
   "outputs": [],
   "source": [
    "# Going through nodes, head to tail - traversing - Link Hopping - Pointer Hopping\n",
    "class Node(object):\n",
    "    \n",
    "    def __init__(self, value):\n",
    "        self.value = value\n",
    "        self.nextnode = None"
   ]
  },
  {
   "cell_type": "code",
   "execution_count": 164,
   "metadata": {},
   "outputs": [],
   "source": [
    "a = Node(1)\n",
    "b = Node(2)\n",
    "c = Node(3)"
   ]
  },
  {
   "cell_type": "code",
   "execution_count": 169,
   "metadata": {},
   "outputs": [
    {
     "data": {
      "text/plain": [
       "2"
      ]
     },
     "execution_count": 169,
     "metadata": {},
     "output_type": "execute_result"
    }
   ],
   "source": [
    "# Link nodes\n",
    "a.nextnode = b\n",
    "b.nextnode = c\n",
    "\n",
    "a.value\n",
    "a.nextnode.value"
   ]
  },
  {
   "cell_type": "markdown",
   "metadata": {},
   "source": [
    "# Doubly Linked List - keeping track of previous and next node\n"
   ]
  },
  {
   "cell_type": "code",
   "execution_count": 171,
   "metadata": {},
   "outputs": [],
   "source": [
    "# (enables o(1) complexity for adding and deleting nodes\n",
    "# Header, trailer sentinals"
   ]
  },
  {
   "cell_type": "code",
   "execution_count": 172,
   "metadata": {},
   "outputs": [],
   "source": [
    "class DoublyLinkedListNode(object):\n",
    "    \n",
    "    def __init__(self, value):\n",
    "        self.value = value\n",
    "        self.next_node = None\n",
    "        self.prev_node = None"
   ]
  },
  {
   "cell_type": "code",
   "execution_count": 174,
   "metadata": {},
   "outputs": [],
   "source": [
    "a = DoublyLinkedListNode(1)\n",
    "b = DoublyLinkedListNode(2)\n",
    "c = DoublyLinkedListNode(3)\n",
    "\n",
    "a.next_node = b\n",
    "b.prev_node = a\n",
    "\n",
    "b.next_node = c\n",
    "c.prev_node = b"
   ]
  },
  {
   "cell_type": "markdown",
   "metadata": {},
   "source": [
    "# Cycle Check for Singly Linked List"
   ]
  },
  {
   "cell_type": "code",
   "execution_count": 175,
   "metadata": {},
   "outputs": [],
   "source": [
    "# Circular Singly Linked List Check Problem\n",
    "def cycle_check(node):\n",
    "    \n",
    "    marker1 = node\n",
    "    marker2 = node\n",
    "    \n",
    "    while(marker2 != None and marker2.next_node != None):\n",
    "        marker1 = marker1.next_node\n",
    "        marker2 = marker2.next_node.next_node\n",
    "        \n",
    "        if marker2 == marker1:\n",
    "            return True\n",
    "    return False\n",
    "class Node(object):\n",
    "    \n",
    "    def __init_(self, value):\n",
    "        self.value = value\n",
    "        self.next_node = None"
   ]
  },
  {
   "cell_type": "code",
   "execution_count": null,
   "metadata": {},
   "outputs": [],
   "source": []
  },
  {
   "cell_type": "markdown",
   "metadata": {},
   "source": [
    "# Linked List Reversal"
   ]
  },
  {
   "cell_type": "code",
   "execution_count": 176,
   "metadata": {},
   "outputs": [],
   "source": [
    "def reverse(head):\n",
    "    \n",
    "    current = head\n",
    "    previous = None\n",
    "    next = None\n",
    "    \n",
    "    while current:\n",
    "        \n",
    "        next_node = current.next_node\n",
    "        \n",
    "        current.next_node = previous\n",
    "        previous = current\n",
    "        current = next_node\n",
    "    return previous\n",
    "\n",
    "class Node(object):\n",
    "    \n",
    "    def __init_(self, value):\n",
    "        self.value = value\n",
    "        self.next_node = None"
   ]
  },
  {
   "cell_type": "code",
   "execution_count": null,
   "metadata": {},
   "outputs": [],
   "source": []
  }
 ],
 "metadata": {
  "kernelspec": {
   "display_name": "Python 3",
   "language": "python",
   "name": "python3"
  },
  "language_info": {
   "codemirror_mode": {
    "name": "ipython",
    "version": 3
   },
   "file_extension": ".py",
   "mimetype": "text/x-python",
   "name": "python",
   "nbconvert_exporter": "python",
   "pygments_lexer": "ipython3",
   "version": "3.8.3"
  }
 },
 "nbformat": 4,
 "nbformat_minor": 4
}
